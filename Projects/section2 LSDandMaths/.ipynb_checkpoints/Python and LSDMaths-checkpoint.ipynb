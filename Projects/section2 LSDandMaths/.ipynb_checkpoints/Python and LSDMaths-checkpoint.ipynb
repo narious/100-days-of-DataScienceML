{
 "cells": [
  {
   "cell_type": "code",
   "execution_count": 2,
   "metadata": {},
   "outputs": [],
   "source": [
    "import pandas as pd\n",
    "data = pd.read_csv('lsd_math_score_data.csv')"
   ]
  },
  {
   "cell_type": "code",
   "execution_count": 3,
   "metadata": {},
   "outputs": [
    {
     "name": "stdout",
     "output_type": "stream",
     "text": [
      "   Time_Delay_in_Minutes  LSD_ppm  Avg_Math_Test_Score\n",
      "0                      5     1.17                78.93\n",
      "1                     15     2.97                58.20\n",
      "2                     30     3.26                67.47\n",
      "3                     60     4.69                37.47\n",
      "4                    120     5.83                45.65\n",
      "5                    240     6.00                32.92\n",
      "6                    480     6.41                29.97\n"
     ]
    }
   ],
   "source": [
    "print(data)"
   ]
  },
  {
   "cell_type": "code",
   "execution_count": 13,
   "metadata": {},
   "outputs": [],
   "source": [
    "data['nice_column'] = 'Taylor Swift'\n",
    "data['sum_column'] = data['Avg_Math_Test_Score']"
   ]
  },
  {
   "cell_type": "code",
   "execution_count": 14,
   "metadata": {},
   "outputs": [
    {
     "name": "stdout",
     "output_type": "stream",
     "text": [
      "   Time_Delay_in_Minutes  LSD_ppm  Avg_Math_Test_Score   nice_column  \\\n",
      "0                      5     1.17                78.93  Taylor Swift   \n",
      "1                     15     2.97                58.20  Taylor Swift   \n",
      "2                     30     3.26                67.47  Taylor Swift   \n",
      "3                     60     4.69                37.47  Taylor Swift   \n",
      "4                    120     5.83                45.65  Taylor Swift   \n",
      "5                    240     6.00                32.92  Taylor Swift   \n",
      "6                    480     6.41                29.97  Taylor Swift   \n",
      "\n",
      "   sum_column  \n",
      "0       78.93  \n",
      "1       58.20  \n",
      "2       67.47  \n",
      "3       37.47  \n",
      "4       45.65  \n",
      "5       32.92  \n",
      "6       29.97  \n"
     ]
    }
   ],
   "source": [
    "print(data)"
   ]
  },
  {
   "cell_type": "code",
   "execution_count": 15,
   "metadata": {},
   "outputs": [
    {
     "name": "stdout",
     "output_type": "stream",
     "text": [
      "   Time_Delay_in_Minutes  LSD_ppm  Avg_Math_Test_Score   nice_column  \\\n",
      "0                      5     1.17                78.93  Taylor Swift   \n",
      "1                     15     2.97                58.20  Taylor Swift   \n",
      "2                     30     3.26                67.47  Taylor Swift   \n",
      "3                     60     4.69                37.47  Taylor Swift   \n",
      "4                    120     5.83                45.65  Taylor Swift   \n",
      "5                    240     6.00                32.92  Taylor Swift   \n",
      "6                    480     6.41                29.97  Taylor Swift   \n",
      "\n",
      "   sum_column  \n",
      "0   6229.9449  \n",
      "1   3387.2400  \n",
      "2   4552.2009  \n",
      "3   1404.0009  \n",
      "4   2083.9225  \n",
      "5   1083.7264  \n",
      "6    898.2009  \n"
     ]
    }
   ],
   "source": [
    "# Squaring the values in the column\n",
    "data['sum_column'] = data['sum_column'] ** 2 \n",
    "print(data)"
   ]
  },
  {
   "cell_type": "code",
   "execution_count": null,
   "metadata": {},
   "outputs": [],
   "source": []
  },
  {
   "cell_type": "code",
   "execution_count": null,
   "metadata": {},
   "outputs": [],
   "source": []
  },
  {
   "cell_type": "code",
   "execution_count": null,
   "metadata": {},
   "outputs": [],
   "source": []
  }
 ],
 "metadata": {
  "kernelspec": {
   "display_name": "Python 3",
   "language": "python",
   "name": "python3"
  },
  "language_info": {
   "codemirror_mode": {
    "name": "ipython",
    "version": 3
   },
   "file_extension": ".py",
   "mimetype": "text/x-python",
   "name": "python",
   "nbconvert_exporter": "python",
   "pygments_lexer": "ipython3",
   "version": "3.8.5"
  }
 },
 "nbformat": 4,
 "nbformat_minor": 4
}
